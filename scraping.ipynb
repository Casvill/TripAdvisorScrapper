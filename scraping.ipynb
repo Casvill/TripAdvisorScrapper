{
 "cells": [
  {
   "cell_type": "code",
   "execution_count": 1,
   "metadata": {},
   "outputs": [],
   "source": [
    "import requests\n",
    "from bs4 import BeautifulSoup\n",
    "import pandas as pd"
   ]
  },
  {
   "cell_type": "code",
   "execution_count": 2,
   "metadata": {},
   "outputs": [],
   "source": [
    "def formula(num:int) -> int:\n",
    "\n",
    "    return int(num-1)*20\n",
    "\n",
    "def extract_cities(page) -> BeautifulSoup:\n",
    "    \n",
    "    headers = {'User-Agent':'Mozilla/5.0 (Macintosh; Intel Mac OS X 10_15_7) AppleWebKit/537.36 (KHTML, like Gecko) Chrome/104.0.0.0 Safari/537.36'}\n",
    "    url = f'https://www.tripadvisor.com.mx/Restaurants-g150768-oa{page}-Mexico.html#LOCATION_LIST'\n",
    "    r = requests.get(url, headers=headers)\n",
    "\n",
    "    soup = BeautifulSoup(r.content, 'html.parser')\n",
    "\n",
    "    return soup\n",
    "\n",
    "def transform_cities(soup) -> list:\n",
    "    \n",
    "    cities_ = []\n",
    "    items = soup.find_all('div', class_='geo_wrap')\n",
    "\n",
    "    for item in items:\n",
    "        city =  item.find('a').text\n",
    "        href =  item.find('a')['href']\n",
    "\n",
    "        city = {'city': city, 'href': href}\n",
    "        cities_.append(city)\n",
    "\n",
    "    return cities_\n",
    "\n",
    "def transform_cities2(soup) -> list:\n",
    "    \n",
    "    cities_ = []\n",
    "    items = soup.find_all('ul', {'class': 'geoList'})\n",
    "\n",
    "    for ultag in items:\n",
    "        for litag in ultag.find_all('li'):\n",
    "            city = litag.text\n",
    "            href = litag.find('a')['href']\n",
    "            \n",
    "            city = {'city':city,'href':href}\n",
    "            cities_.append(city)\n",
    "    return cities_"
   ]
  },
  {
   "cell_type": "code",
   "execution_count": 3,
   "metadata": {},
   "outputs": [],
   "source": [
    "max_page = 3\n",
    "\n",
    "cities = transform_cities(extract_cities(0))\n",
    "\n",
    "for i in range(20,(max_page*20),20):\n",
    "    cities_ = transform_cities2(extract_cities(i))\n",
    "    cities += cities_"
   ]
  },
  {
   "cell_type": "code",
   "execution_count": 4,
   "metadata": {},
   "outputs": [
    {
     "data": {
      "text/plain": [
       "60"
      ]
     },
     "execution_count": 4,
     "metadata": {},
     "output_type": "execute_result"
    }
   ],
   "source": [
    "cities = pd.DataFrame(cities)\n",
    "len(cities)"
   ]
  },
  {
   "cell_type": "code",
   "execution_count": 5,
   "metadata": {},
   "outputs": [
    {
     "data": {
      "text/html": [
       "<div>\n",
       "<style scoped>\n",
       "    .dataframe tbody tr th:only-of-type {\n",
       "        vertical-align: middle;\n",
       "    }\n",
       "\n",
       "    .dataframe tbody tr th {\n",
       "        vertical-align: top;\n",
       "    }\n",
       "\n",
       "    .dataframe thead th {\n",
       "        text-align: right;\n",
       "    }\n",
       "</style>\n",
       "<table border=\"1\" class=\"dataframe\">\n",
       "  <thead>\n",
       "    <tr style=\"text-align: right;\">\n",
       "      <th></th>\n",
       "      <th>city</th>\n",
       "      <th>state</th>\n",
       "      <th>href</th>\n",
       "    </tr>\n",
       "  </thead>\n",
       "  <tbody>\n",
       "    <tr>\n",
       "      <th>0</th>\n",
       "      <td>Ciudad de México</td>\n",
       "      <td></td>\n",
       "      <td>/Restaurants-g150800-Mexico_City_Central_Mexic...</td>\n",
       "    </tr>\n",
       "    <tr>\n",
       "      <th>1</th>\n",
       "      <td>Guadalajara</td>\n",
       "      <td></td>\n",
       "      <td>/Restaurants-g150798-Guadalajara_Guadalajara_M...</td>\n",
       "    </tr>\n",
       "    <tr>\n",
       "      <th>2</th>\n",
       "      <td>Cancún</td>\n",
       "      <td></td>\n",
       "      <td>/Restaurants-g150807-Cancun_Yucatan_Peninsula....</td>\n",
       "    </tr>\n",
       "    <tr>\n",
       "      <th>3</th>\n",
       "      <td>Playa del Carmen</td>\n",
       "      <td></td>\n",
       "      <td>/Restaurants-g150812-Playa_del_Carmen_Yucatan_...</td>\n",
       "    </tr>\n",
       "    <tr>\n",
       "      <th>4</th>\n",
       "      <td>Monterrey</td>\n",
       "      <td></td>\n",
       "      <td>/Restaurants-g150782-Monterrey_Northern_Mexico...</td>\n",
       "    </tr>\n",
       "  </tbody>\n",
       "</table>\n",
       "</div>"
      ],
      "text/plain": [
       "               city state                                               href\n",
       "0  Ciudad de México        /Restaurants-g150800-Mexico_City_Central_Mexic...\n",
       "1       Guadalajara        /Restaurants-g150798-Guadalajara_Guadalajara_M...\n",
       "2            Cancún        /Restaurants-g150807-Cancun_Yucatan_Peninsula....\n",
       "3  Playa del Carmen        /Restaurants-g150812-Playa_del_Carmen_Yucatan_...\n",
       "4         Monterrey        /Restaurants-g150782-Monterrey_Northern_Mexico..."
      ]
     },
     "execution_count": 5,
     "metadata": {},
     "output_type": "execute_result"
    }
   ],
   "source": [
    "cities['city'] = cities['city'].str.lstrip('Restaurantes en')\n",
    "cities['state'] = ''\n",
    "\n",
    "for i in range(len(cities)):\n",
    "    if '\\n-' in cities['city'][i]:\n",
    "        cities['state'][i] = cities['city'][i].split('\\n-')[1]\n",
    "        cities['city'][i] = cities['city'][i].split('\\n-')[0]\n",
    "\n",
    "cities = cities[['city','state','href']]\n",
    "cities.head()"
   ]
  },
  {
   "cell_type": "code",
   "execution_count": 6,
   "metadata": {},
   "outputs": [],
   "source": [
    "def extract_restaurant_list(href_city) -> BeautifulSoup:\n",
    "    \n",
    "    headers = {'User-Agent':'Mozilla/5.0 (Macintosh; Intel Mac OS X 10_15_7) AppleWebKit/537.36 (KHTML, like Gecko) Chrome/104.0.0.0 Safari/537.36'}\n",
    "    url = f'https://www.tripadvisor.com.mx/{href_city}'\n",
    "    r = requests.get(url, headers=headers)\n",
    "    soup = BeautifulSoup(r.content, 'html.parser')\n",
    "\n",
    "    return soup"
   ]
  },
  {
   "cell_type": "code",
   "execution_count": 7,
   "metadata": {},
   "outputs": [],
   "source": [
    "def transform_restaurant_list(soup) -> list:\n",
    "    \n",
    "    restaurant_ = []\n",
    "    items = soup.find_all('div', class_='RfBGI')\n",
    "    \n",
    "    for item in items:\n",
    "        restaurant =  item.find('a', class_='Lwqic Cj b').text\n",
    "        href =  item.find('a')['href']\n",
    "\n",
    "        restaurant = {'restaurant': restaurant, 'href': href}\n",
    "        restaurant_.append(restaurant)\n",
    "\n",
    "    return restaurant_"
   ]
  },
  {
   "cell_type": "code",
   "execution_count": 8,
   "metadata": {},
   "outputs": [
    {
     "data": {
      "text/plain": [
       "['/Restaurants-g150800-oa0-Mexico_City_Central_Mexico_and_Gulf_Coast.html',\n",
       " '/Restaurants-g150800-oa30-Mexico_City_Central_Mexico_and_Gulf_Coast.html',\n",
       " '/Restaurants-g150798-oa0-Guadalajara_Guadalajara_Metropolitan_Area.html',\n",
       " '/Restaurants-g150798-oa30-Guadalajara_Guadalajara_Metropolitan_Area.html']"
      ]
     },
     "execution_count": 8,
     "metadata": {},
     "output_type": "execute_result"
    }
   ],
   "source": [
    "limites_cities = 2\n",
    "max_page = 30 #2 \n",
    "\n",
    "href_cities = cities[:limites_cities]['href'].str.split('-')\n",
    "href_cities_list = []\n",
    "\n",
    "for i in range(len(href_cities)):\n",
    "    for page in range(0,max_page+1,30):\n",
    "\n",
    "        href = href_cities[i][0] + '-' + href_cities[i][1] + '-oa' + str(page) + '-' + href_cities[i][2]\n",
    "        href_cities_list.append(href)\n",
    "\n",
    "href_cities_list"
   ]
  },
  {
   "cell_type": "code",
   "execution_count": 9,
   "metadata": {},
   "outputs": [
    {
     "data": {
      "text/html": [
       "<div>\n",
       "<style scoped>\n",
       "    .dataframe tbody tr th:only-of-type {\n",
       "        vertical-align: middle;\n",
       "    }\n",
       "\n",
       "    .dataframe tbody tr th {\n",
       "        vertical-align: top;\n",
       "    }\n",
       "\n",
       "    .dataframe thead th {\n",
       "        text-align: right;\n",
       "    }\n",
       "</style>\n",
       "<table border=\"1\" class=\"dataframe\">\n",
       "  <thead>\n",
       "    <tr style=\"text-align: right;\">\n",
       "      <th></th>\n",
       "      <th>restaurant</th>\n",
       "      <th>href</th>\n",
       "    </tr>\n",
       "  </thead>\n",
       "  <tbody>\n",
       "    <tr>\n",
       "      <th>0</th>\n",
       "      <td>San Giorgio Pizzeria</td>\n",
       "      <td>/Restaurant_Review-g150800-d18891710-Reviews-S...</td>\n",
       "    </tr>\n",
       "    <tr>\n",
       "      <th>1</th>\n",
       "      <td>1. Balta</td>\n",
       "      <td>/Restaurant_Review-g150800-d19338104-Reviews-B...</td>\n",
       "    </tr>\n",
       "    <tr>\n",
       "      <th>2</th>\n",
       "      <td>2. La Mansion Marriott Reforma</td>\n",
       "      <td>/Restaurant_Review-g150800-d2394477-Reviews-La...</td>\n",
       "    </tr>\n",
       "    <tr>\n",
       "      <th>3</th>\n",
       "      <td>3. Condimento Restaurant</td>\n",
       "      <td>/Restaurant_Review-g150800-d1926008-Reviews-Co...</td>\n",
       "    </tr>\n",
       "    <tr>\n",
       "      <th>4</th>\n",
       "      <td>4. La Distral</td>\n",
       "      <td>/Restaurant_Review-g150800-d12104177-Reviews-L...</td>\n",
       "    </tr>\n",
       "    <tr>\n",
       "      <th>...</th>\n",
       "      <td>...</td>\n",
       "      <td>...</td>\n",
       "    </tr>\n",
       "    <tr>\n",
       "      <th>129</th>\n",
       "      <td>56. La Casa de los Platos</td>\n",
       "      <td>/Restaurant_Review-g150798-d5488792-Reviews-La...</td>\n",
       "    </tr>\n",
       "    <tr>\n",
       "      <th>130</th>\n",
       "      <td>57. Hueso</td>\n",
       "      <td>/Restaurant_Review-g150798-d7175235-Reviews-Hu...</td>\n",
       "    </tr>\n",
       "    <tr>\n",
       "      <th>131</th>\n",
       "      <td>58. Boca del Cielo</td>\n",
       "      <td>/Restaurant_Review-g150798-d3687050-Reviews-Bo...</td>\n",
       "    </tr>\n",
       "    <tr>\n",
       "      <th>132</th>\n",
       "      <td>59. Save</td>\n",
       "      <td>/Restaurant_Review-g150798-d11668098-Reviews-S...</td>\n",
       "    </tr>\n",
       "    <tr>\n",
       "      <th>133</th>\n",
       "      <td>60. Dax Cuisine Française</td>\n",
       "      <td>/Restaurant_Review-g150798-d15007010-Reviews-D...</td>\n",
       "    </tr>\n",
       "  </tbody>\n",
       "</table>\n",
       "<p>134 rows × 2 columns</p>\n",
       "</div>"
      ],
      "text/plain": [
       "                         restaurant  \\\n",
       "0              San Giorgio Pizzeria   \n",
       "1                          1. Balta   \n",
       "2    2. La Mansion Marriott Reforma   \n",
       "3          3. Condimento Restaurant   \n",
       "4                     4. La Distral   \n",
       "..                              ...   \n",
       "129       56. La Casa de los Platos   \n",
       "130                       57. Hueso   \n",
       "131              58. Boca del Cielo   \n",
       "132                        59. Save   \n",
       "133       60. Dax Cuisine Française   \n",
       "\n",
       "                                                  href  \n",
       "0    /Restaurant_Review-g150800-d18891710-Reviews-S...  \n",
       "1    /Restaurant_Review-g150800-d19338104-Reviews-B...  \n",
       "2    /Restaurant_Review-g150800-d2394477-Reviews-La...  \n",
       "3    /Restaurant_Review-g150800-d1926008-Reviews-Co...  \n",
       "4    /Restaurant_Review-g150800-d12104177-Reviews-L...  \n",
       "..                                                 ...  \n",
       "129  /Restaurant_Review-g150798-d5488792-Reviews-La...  \n",
       "130  /Restaurant_Review-g150798-d7175235-Reviews-Hu...  \n",
       "131  /Restaurant_Review-g150798-d3687050-Reviews-Bo...  \n",
       "132  /Restaurant_Review-g150798-d11668098-Reviews-S...  \n",
       "133  /Restaurant_Review-g150798-d15007010-Reviews-D...  \n",
       "\n",
       "[134 rows x 2 columns]"
      ]
     },
     "execution_count": 9,
     "metadata": {},
     "output_type": "execute_result"
    }
   ],
   "source": [
    "max_page = 3\n",
    "restaurants = []\n",
    "\n",
    "for city in href_cities_list:\n",
    "    restaurant = transform_restaurant_list(extract_restaurant_list(city))\n",
    "    restaurants += restaurant\n",
    "restaurants = pd.DataFrame(restaurants)\n",
    "\n",
    "restaurants"
   ]
  },
  {
   "cell_type": "code",
   "execution_count": 10,
   "metadata": {},
   "outputs": [
    {
     "data": {
      "text/html": [
       "<div>\n",
       "<style scoped>\n",
       "    .dataframe tbody tr th:only-of-type {\n",
       "        vertical-align: middle;\n",
       "    }\n",
       "\n",
       "    .dataframe tbody tr th {\n",
       "        vertical-align: top;\n",
       "    }\n",
       "\n",
       "    .dataframe thead th {\n",
       "        text-align: right;\n",
       "    }\n",
       "</style>\n",
       "<table border=\"1\" class=\"dataframe\">\n",
       "  <thead>\n",
       "    <tr style=\"text-align: right;\">\n",
       "      <th></th>\n",
       "      <th>restaurant</th>\n",
       "      <th>href</th>\n",
       "      <th>sponsored</th>\n",
       "    </tr>\n",
       "  </thead>\n",
       "  <tbody>\n",
       "    <tr>\n",
       "      <th>0</th>\n",
       "      <td>San Giorgio Pizzeria</td>\n",
       "      <td>/Restaurant_Review-g150800-d18891710-Reviews-S...</td>\n",
       "      <td>True</td>\n",
       "    </tr>\n",
       "    <tr>\n",
       "      <th>1</th>\n",
       "      <td>Balta</td>\n",
       "      <td>/Restaurant_Review-g150800-d19338104-Reviews-B...</td>\n",
       "      <td>False</td>\n",
       "    </tr>\n",
       "    <tr>\n",
       "      <th>2</th>\n",
       "      <td>La Mansion Marriott Reforma</td>\n",
       "      <td>/Restaurant_Review-g150800-d2394477-Reviews-La...</td>\n",
       "      <td>False</td>\n",
       "    </tr>\n",
       "    <tr>\n",
       "      <th>3</th>\n",
       "      <td>Condimento Restaurant</td>\n",
       "      <td>/Restaurant_Review-g150800-d1926008-Reviews-Co...</td>\n",
       "      <td>False</td>\n",
       "    </tr>\n",
       "    <tr>\n",
       "      <th>4</th>\n",
       "      <td>La Distral</td>\n",
       "      <td>/Restaurant_Review-g150800-d12104177-Reviews-L...</td>\n",
       "      <td>False</td>\n",
       "    </tr>\n",
       "  </tbody>\n",
       "</table>\n",
       "</div>"
      ],
      "text/plain": [
       "                     restaurant  \\\n",
       "0          San Giorgio Pizzeria   \n",
       "1                         Balta   \n",
       "2   La Mansion Marriott Reforma   \n",
       "3         Condimento Restaurant   \n",
       "4                    La Distral   \n",
       "\n",
       "                                                href  sponsored  \n",
       "0  /Restaurant_Review-g150800-d18891710-Reviews-S...       True  \n",
       "1  /Restaurant_Review-g150800-d19338104-Reviews-B...      False  \n",
       "2  /Restaurant_Review-g150800-d2394477-Reviews-La...      False  \n",
       "3  /Restaurant_Review-g150800-d1926008-Reviews-Co...      False  \n",
       "4  /Restaurant_Review-g150800-d12104177-Reviews-L...      False  "
      ]
     },
     "execution_count": 10,
     "metadata": {},
     "output_type": "execute_result"
    }
   ],
   "source": [
    "restaurants['sponsored'] = ''\n",
    "for i in range(len(restaurants)):\n",
    "    if '.' in restaurants['restaurant'][i]:\n",
    "        restaurants['restaurant'][i] = restaurants['restaurant'][i].split('.')[1]\n",
    "        restaurants['sponsored'][i] = restaurants['restaurant'][i].split('.')[0]\n",
    "\n",
    "restaurants['sponsored'] = ~restaurants.sponsored.astype('bool')\n",
    "\n",
    "restaurants.head()"
   ]
  },
  {
   "cell_type": "code",
   "execution_count": 11,
   "metadata": {},
   "outputs": [],
   "source": [
    "def extract_restaurant_info(href_restaurant) -> BeautifulSoup:\n",
    "    \n",
    "    headers = {'User-Agent':'Mozilla/5.0 (Macintosh; Intel Mac OS X 10_15_7) AppleWebKit/537.36 (KHTML, like Gecko) Chrome/104.0.0.0 Safari/537.36'}\n",
    "    url = f'https://www.tripadvisor.com.mx{href_restaurant}'\n",
    "    r = requests.get(url, headers=headers)\n",
    "\n",
    "    soup = BeautifulSoup(r.content, 'html.parser')\n",
    "\n",
    "    return soup"
   ]
  },
  {
   "cell_type": "code",
   "execution_count": 14,
   "metadata": {},
   "outputs": [
    {
     "data": {
      "text/plain": [
       "'/Restaurant_Review-g150800-d18891710-Reviews-San_Giorgio_Pizzeria-Mexico_City_Central_Mexico_and_Gulf_Coast.html'"
      ]
     },
     "execution_count": 14,
     "metadata": {},
     "output_type": "execute_result"
    }
   ],
   "source": [
    "restaurants.iloc[0][1]"
   ]
  },
  {
   "cell_type": "code",
   "execution_count": 12,
   "metadata": {},
   "outputs": [
    {
     "data": {
      "text/plain": [
       "[{'name': 'San Giorgio Pizzeria SolicitadoOpiniónGuardarCompartir ',\n",
       "  'reviews': '64\\xa0opiniones',\n",
       "  'ranking': '#66 de 5,262 restaurantes en Ciudad de México',\n",
       "  'category': '$$ - $$$ItalianaPizzeríaSaludable',\n",
       "  'phone': '525612622993',\n",
       "  'open_hours': ' Abierto ahora:\\xa01:00\\xa0p.\\xa0m. - 11:00\\xa0p.\\xa0m.'},\n",
       " {'name': 'Balta SolicitadoOpiniónGuardarCompartir ',\n",
       "  'reviews': '466\\xa0opiniones',\n",
       "  'ranking': '#1 de 5,262 restaurantes en Ciudad de México',\n",
       "  'category': '$$ - $$$MexicanaMediterráneaEuropea',\n",
       "  'phone': '+52 55 8660 0500',\n",
       "  'open_hours': ' Abierto ahora:\\xa006:00\\xa0a.\\xa0m. - 11:00\\xa0p.\\xa0m.'},\n",
       " {'name': 'La Mansion Marriott Reforma SolicitadoOpiniónGuardarCompartir ',\n",
       "  'reviews': '988\\xa0opiniones',\n",
       "  'ranking': '#2 de 5,262 restaurantes en Ciudad de México',\n",
       "  'category': '$$$$MexicanaParrilladaOpciones sin gluten',\n",
       "  'phone': '+52 55 1102 7021',\n",
       "  'open_hours': ' Abierto ahora:\\xa01:00\\xa0p.\\xa0m. - 10:00\\xa0p.\\xa0m.'}]"
      ]
     },
     "execution_count": 12,
     "metadata": {},
     "output_type": "execute_result"
    }
   ],
   "source": [
    "def transform_restaurant_info(soup) -> list:\n",
    "    \n",
    "    restaurant_info_ = []\n",
    "    items = soup.find_all('div', class_='lBkqB _T')\n",
    "    \n",
    "    for item in items:\n",
    "        name =  item.find('div', class_='acKDw w O').text\n",
    "        points = ''\n",
    "        reviews = item.find('span', class_='AfQtZ').text\n",
    "        ranking = item.find('span', class_='DsyBj cNFrA').text\n",
    "        category = item.find('span', class_='DsyBj DxyfE').text\n",
    "        #adress = item.find('span', class_='AYHFM')['href'].text\n",
    "        phone = item.find('span', class_='AYHFM').text\n",
    "        open_hours = item.find('span', class_='mMkhr').text\n",
    "        #web_page = item.find('a', class_='YnKZo Ci Wc _S C AYHFM')['href'].text\n",
    "\n",
    "        restaurant_info = {'name':name, 'reviews':reviews, 'ranking':ranking, 'category':category, 'phone':phone, 'open_hours':open_hours}\n",
    "        restaurant_info_.append(restaurant_info)\n",
    "\n",
    "    return restaurant_info_\n",
    "\n",
    "\n",
    "\n",
    "restaurant_info = []\n",
    "\n",
    "for i in range(0,3):\n",
    "    restaurant_info_ = transform_restaurant_info(extract_restaurant_info(restaurants.iloc[i][1]))\n",
    "    restaurant_info += restaurant_info_\n",
    "\n",
    "restaurant_info"
   ]
  },
  {
   "cell_type": "code",
   "execution_count": 15,
   "metadata": {},
   "outputs": [
    {
     "data": {
      "text/plain": [
       "[]"
      ]
     },
     "execution_count": 15,
     "metadata": {},
     "output_type": "execute_result"
    }
   ],
   "source": [
    "\n",
    "def transform_restaurant_info(soup) -> list:\n",
    "    \n",
    "    restaurant_info_ = []\n",
    "    images = soup.find_all('img', class_='kDZhm IdiaP Me')\n",
    "    for img in images:\n",
    "        if img.has_attr('src'):\n",
    "            coordinates = (img['src'])\n",
    "            print(coordinates)\n",
    "            restaurant_info = {'coordinates':coordinates}\n",
    "            restaurant_info_.append(restaurant_info)\n",
    "\n",
    "    return restaurant_info_\n",
    "\n",
    "\n",
    "\n",
    "restaurant_info = []\n",
    "\n",
    "for i in range(0,3):\n",
    "    restaurant_info_ = transform_restaurant_info(extract_restaurant_info(restaurants.iloc[i][1]))\n",
    "    restaurant_info += restaurant_info_\n",
    "\n",
    "restaurant_info"
   ]
  },
  {
   "cell_type": "code",
   "execution_count": null,
   "metadata": {},
   "outputs": [],
   "source": [
    "def transform_restaurant_info(soup) -> list:\n",
    "    \n",
    "    restaurant_info_ = []\n",
    "    items = soup.find_all('div', class_='f e')\n",
    "        \n",
    "    for item in items:\n",
    "        adress = item.find('span', class_='yEWoV').text\n",
    "        #mail = item.find('div', {\"data-test-target\":\"staticMapSnapshot\"}).text\n",
    "        mail = item.find('a', href=True)['href']\n",
    "        coordinates = ''# item.find('span', src=True)['src']\n",
    "\n",
    "        \n",
    "\n",
    "        restaurant_info = {'adress':adress, 'mail':mail, 'coordinates':coordinates}\n",
    "        restaurant_info_.append(restaurant_info)\n",
    "\n",
    "    return restaurant_info_\n",
    "\n",
    "\n",
    "\n",
    "restaurant_info = []\n",
    "\n",
    "for i in range(0,3):\n",
    "    restaurant_info_ = transform_restaurant_info(extract_restaurant_info(restaurants.iloc[i][1]))\n",
    "    restaurant_info += restaurant_info_\n",
    "\n",
    "restaurant_info"
   ]
  },
  {
   "cell_type": "code",
   "execution_count": null,
   "metadata": {},
   "outputs": [],
   "source": [
    "from selenium import webdriver"
   ]
  },
  {
   "cell_type": "code",
   "execution_count": null,
   "metadata": {},
   "outputs": [],
   "source": [
    "def extractRI(page) -> BeautifulSoup:\n",
    "\n",
    "    #headers = {'User-Agent':'Mozilla/5.0 (Windows NT 10.0; Win64; x64; rv:103.0) Gecko/20100101 Firefox/103.0'}\n",
    "    url = f'https://www.tripadvisor.com.mx{page}'\n",
    "    #r = requests.get(url, headers=headers)\n",
    "\n",
    "    browser = webdriver.Chrome(executable_path=r\"/Users/rosaarzabala/Documents/Projects/TripAdvisorScrapper/chromedriver\")\n",
    "    browser.get(url)\n",
    "    html = browser.page_source\n",
    "\n",
    "    soup = BeautifulSoup(html , 'html.parser')\n",
    "\n",
    "    return soup"
   ]
  },
  {
   "cell_type": "code",
   "execution_count": null,
   "metadata": {},
   "outputs": [],
   "source": [
    "def transform_restaurant_info(soup) -> list:\n",
    "    \n",
    "    restaurant_info_ = []\n",
    "    items = soup.find_all('div', class_='kDZhm IdiaP Me')\n",
    "        \n",
    "    for item in items:\n",
    "        try:\n",
    "            latitude = item.find('a', class_='YnKZo Ci Wc _S C FPPgD')['href']\n",
    "            #print(latitude)\n",
    "            restaurant_info = {'coordinates':latitude}\n",
    "            restaurant_info_.append(restaurant_info)\n",
    "        except:\n",
    "            pass\n",
    "\n",
    "    return restaurant_info_\n",
    "\n",
    "\n",
    "restaurant_info = []\n",
    "\n",
    "for i in range(0,3):\n",
    "    restaurant_info_ = transform_restaurant_info(extractRI(restaurants.iloc[i][1]))\n",
    "    restaurant_info += restaurant_info_\n",
    "\n",
    "restaurant_info"
   ]
  }
 ],
 "metadata": {
  "kernelspec": {
   "display_name": "Python 3.10.0 64-bit",
   "language": "python",
   "name": "python3"
  },
  "language_info": {
   "codemirror_mode": {
    "name": "ipython",
    "version": 3
   },
   "file_extension": ".py",
   "mimetype": "text/x-python",
   "name": "python",
   "nbconvert_exporter": "python",
   "pygments_lexer": "ipython3",
   "version": "3.10.0"
  },
  "orig_nbformat": 4,
  "vscode": {
   "interpreter": {
    "hash": "7e1998ff7f8aa20ada591c520b972326324e5ea05489af9e422744c7c09f6dad"
   }
  }
 },
 "nbformat": 4,
 "nbformat_minor": 2
}
