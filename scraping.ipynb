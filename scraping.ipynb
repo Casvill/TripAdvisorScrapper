{
 "cells": [
  {
   "cell_type": "markdown",
   "metadata": {},
   "source": [
    "# Web scrapping TripAdvisor-Mexico"
   ]
  },
  {
   "cell_type": "markdown",
   "metadata": {},
   "source": [
    "Importing necessary libraries:"
   ]
  },
  {
   "cell_type": "code",
   "execution_count": 158,
   "metadata": {},
   "outputs": [],
   "source": [
    "import requests\n",
    "from bs4 import BeautifulSoup\n",
    "import pandas as pd"
   ]
  },
  {
   "cell_type": "code",
   "execution_count": 159,
   "metadata": {},
   "outputs": [],
   "source": [
    "#A list to store the scraped data\n",
    "states_list = []"
   ]
  },
  {
   "cell_type": "markdown",
   "metadata": {},
   "source": [
    "Relevant functions to scrap effectivly"
   ]
  },
  {
   "cell_type": "code",
   "execution_count": 160,
   "metadata": {},
   "outputs": [],
   "source": [
    "def formula(num:int) -> int:\n",
    "\n",
    "    return int(num-1)*20\n",
    "\n",
    "def extract(page) -> BeautifulSoup:\n",
    "    \n",
    "    headers = {'User-Agent':'Mozilla/5.0 (Windows NT 10.0; Win64; x64; rv:103.0) Gecko/20100101 Firefox/103.0'}\n",
    "    \n",
    "    url = f'https://www.tripadvisor.com.mx/Restaurants-g150768-oa{page}-Mexico.html#LOCATION_LIST'\n",
    "    r = requests.get(url, headers=headers)\n",
    "\n",
    "    soup = BeautifulSoup(r.content, 'html.parser')\n",
    "\n",
    "    return soup\n",
    "\n",
    "def transform(soup) -> list:\n",
    "    \n",
    "    divs = soup.find_all('div', class_='geo_wrap')\n",
    "\n",
    "    for item in divs:\n",
    "        state =  item.find('a').text\n",
    "        href =  item.find('a')['href']\n",
    "\n",
    "        state ={'state': state, 'href': href}\n",
    "        states_list.append(state)\n",
    "\n",
    "    return  states_list\n",
    "\n",
    "def transform2(soup) -> list:\n",
    "    \n",
    "    for ultag in soup.find_all('ul', {'class': 'geoList'}):\n",
    "        for litag in ultag.find_all('li'):\n",
    "            state= litag.text\n",
    "            href= litag.find('a')['href']\n",
    "            state = {'state':state,'href':href}\n",
    "            states_list.append(state)"
   ]
  },
  {
   "cell_type": "code",
   "execution_count": 161,
   "metadata": {},
   "outputs": [
    {
     "data": {
      "text/plain": [
       "[{'state': 'Restaurantes en Ciudad de México',\n",
       "  'href': '/Restaurants-g150800-Mexico_City_Central_Mexico_and_Gulf_Coast.html'},\n",
       " {'state': 'Restaurantes en Guadalajara',\n",
       "  'href': '/Restaurants-g150798-Guadalajara_Guadalajara_Metropolitan_Area.html'},\n",
       " {'state': 'Restaurantes en Cancún',\n",
       "  'href': '/Restaurants-g150807-Cancun_Yucatan_Peninsula.html'},\n",
       " {'state': 'Restaurantes en Playa del Carmen',\n",
       "  'href': '/Restaurants-g150812-Playa_del_Carmen_Yucatan_Peninsula.html'},\n",
       " {'state': 'Restaurantes en Monterrey',\n",
       "  'href': '/Restaurants-g150782-Monterrey_Northern_Mexico.html'},\n",
       " {'state': 'Restaurantes en Puerto Vallarta',\n",
       "  'href': '/Restaurants-g150793-Puerto_Vallarta.html'},\n",
       " {'state': 'Restaurantes en Santiago de Querétaro',\n",
       "  'href': '/Restaurants-g479232-Queretaro_City_Central_Mexico_and_Gulf_Coast.html'},\n",
       " {'state': 'Restaurantes en Mérida',\n",
       "  'href': '/Restaurants-g150811-Merida_Yucatan_Peninsula.html'},\n",
       " {'state': 'Restaurantes en Puebla',\n",
       "  'href': '/Restaurants-g152773-Puebla_Central_Mexico_and_Gulf_Coast.html'},\n",
       " {'state': 'Restaurantes en Zapopan',\n",
       "  'href': '/Restaurants-g1006488-Zapopan_Guadalajara_Metropolitan_Area.html'},\n",
       " {'state': 'Restaurantes en Tijuana',\n",
       "  'href': '/Restaurants-g150776-Tijuana_Baja_California.html'},\n",
       " {'state': 'Restaurantes en Tulum',\n",
       "  'href': '/Restaurants-g150813-Tulum_Yucatan_Peninsula.html'},\n",
       " {'state': 'Restaurantes en Oaxaca',\n",
       "  'href': '/Restaurants-g150801-Oaxaca_Southern_Mexico.html'},\n",
       " {'state': 'Restaurantes en Cabo San Lucas',\n",
       "  'href': '/Restaurants-g152515-Cabo_San_Lucas_Los_Cabos_Baja_California.html'},\n",
       " {'state': 'Restaurantes en León',\n",
       "  'href': '/Restaurants-g154240-Leon_Central_Mexico_and_Gulf_Coast.html'},\n",
       " {'state': 'Restaurantes en San Luis Potosí',\n",
       "  'href': '/Restaurants-g153477-San_Luis_Potosi_Central_Mexico_and_Gulf_Coast.html'},\n",
       " {'state': 'Restaurantes en San Miguel de Allende',\n",
       "  'href': '/Restaurants-g151932-San_Miguel_de_Allende_Central_Mexico_and_Gulf_Coast.html'},\n",
       " {'state': 'Restaurantes en Municipio de Ensenada',\n",
       "  'href': '/Restaurants-g10767851-Ensenada_Municipality_Baja_California.html'},\n",
       " {'state': 'Restaurantes en Mazatlán',\n",
       "  'href': '/Restaurants-g150792-Mazatlan_Pacific_Coast.html'},\n",
       " {'state': 'Restaurantes en Morelia',\n",
       "  'href': '/Restaurants-g152771-Morelia_Central_Mexico_and_Gulf_Coast.html'}]"
      ]
     },
     "execution_count": 161,
     "metadata": {},
     "output_type": "execute_result"
    }
   ],
   "source": [
    "transform(extract(formula(1)))"
   ]
  },
  {
   "cell_type": "code",
   "execution_count": 162,
   "metadata": {},
   "outputs": [],
   "source": [
    "# city_list = []\n",
    "for i in range(2,55):\n",
    "    transform2(extract(formula(i)))"
   ]
  },
  {
   "cell_type": "code",
   "execution_count": 163,
   "metadata": {},
   "outputs": [],
   "source": [
    "city_list = pd.DataFrame(states_list)"
   ]
  },
  {
   "cell_type": "code",
   "execution_count": 164,
   "metadata": {},
   "outputs": [
    {
     "name": "stdout",
     "output_type": "stream",
     "text": [
      "<class 'pandas.core.frame.DataFrame'>\n",
      "RangeIndex: 1062 entries, 0 to 1061\n",
      "Data columns (total 2 columns):\n",
      " #   Column  Non-Null Count  Dtype \n",
      "---  ------  --------------  ----- \n",
      " 0   state   1062 non-null   object\n",
      " 1   href    1062 non-null   object\n",
      "dtypes: object(2)\n",
      "memory usage: 16.7+ KB\n"
     ]
    }
   ],
   "source": [
    "city_list.info()"
   ]
  },
  {
   "cell_type": "code",
   "execution_count": 165,
   "metadata": {},
   "outputs": [
    {
     "data": {
      "text/html": [
       "<div>\n",
       "<style scoped>\n",
       "    .dataframe tbody tr th:only-of-type {\n",
       "        vertical-align: middle;\n",
       "    }\n",
       "\n",
       "    .dataframe tbody tr th {\n",
       "        vertical-align: top;\n",
       "    }\n",
       "\n",
       "    .dataframe thead th {\n",
       "        text-align: right;\n",
       "    }\n",
       "</style>\n",
       "<table border=\"1\" class=\"dataframe\">\n",
       "  <thead>\n",
       "    <tr style=\"text-align: right;\">\n",
       "      <th></th>\n",
       "      <th>state</th>\n",
       "      <th>href</th>\n",
       "    </tr>\n",
       "  </thead>\n",
       "  <tbody>\n",
       "    <tr>\n",
       "      <th>0</th>\n",
       "      <td>Restaurantes en Ciudad de México</td>\n",
       "      <td>/Restaurants-g150800-Mexico_City_Central_Mexic...</td>\n",
       "    </tr>\n",
       "    <tr>\n",
       "      <th>1</th>\n",
       "      <td>Restaurantes en Guadalajara</td>\n",
       "      <td>/Restaurants-g150798-Guadalajara_Guadalajara_M...</td>\n",
       "    </tr>\n",
       "    <tr>\n",
       "      <th>2</th>\n",
       "      <td>Restaurantes en Cancún</td>\n",
       "      <td>/Restaurants-g150807-Cancun_Yucatan_Peninsula....</td>\n",
       "    </tr>\n",
       "    <tr>\n",
       "      <th>3</th>\n",
       "      <td>Restaurantes en Playa del Carmen</td>\n",
       "      <td>/Restaurants-g150812-Playa_del_Carmen_Yucatan_...</td>\n",
       "    </tr>\n",
       "    <tr>\n",
       "      <th>4</th>\n",
       "      <td>Restaurantes en Monterrey</td>\n",
       "      <td>/Restaurants-g150782-Monterrey_Northern_Mexico...</td>\n",
       "    </tr>\n",
       "    <tr>\n",
       "      <th>...</th>\n",
       "      <td>...</td>\n",
       "      <td>...</td>\n",
       "    </tr>\n",
       "    <tr>\n",
       "      <th>1057</th>\n",
       "      <td>Restaurantes en Atotonilco\\n- Guanajuato</td>\n",
       "      <td>/Restaurants-g1673158-Atotonilco_Central_Mexic...</td>\n",
       "    </tr>\n",
       "    <tr>\n",
       "      <th>1058</th>\n",
       "      <td>Restaurantes en Zinacantán\\n- Chiapas</td>\n",
       "      <td>/Restaurants-g1026028-Zinacantan_Southern_Mexi...</td>\n",
       "    </tr>\n",
       "    <tr>\n",
       "      <th>1059</th>\n",
       "      <td>Restaurantes en Municipio de Vista Hermosa\\n- ...</td>\n",
       "      <td>/Restaurants-g14976770-Vista_Hermosa_Municipal...</td>\n",
       "    </tr>\n",
       "    <tr>\n",
       "      <th>1060</th>\n",
       "      <td>Restaurantes en Purépero\\n- Michoacán</td>\n",
       "      <td>/Restaurants-g3151836-Purepero_Central_Mexico_...</td>\n",
       "    </tr>\n",
       "    <tr>\n",
       "      <th>1061</th>\n",
       "      <td>Restaurantes en Santa María Tonantzintla\\n- Pu...</td>\n",
       "      <td>/Restaurants-g1026036-Santa_Maria_Tonantzintla...</td>\n",
       "    </tr>\n",
       "  </tbody>\n",
       "</table>\n",
       "<p>1062 rows × 2 columns</p>\n",
       "</div>"
      ],
      "text/plain": [
       "                                                  state  \\\n",
       "0                      Restaurantes en Ciudad de México   \n",
       "1                           Restaurantes en Guadalajara   \n",
       "2                                Restaurantes en Cancún   \n",
       "3                      Restaurantes en Playa del Carmen   \n",
       "4                             Restaurantes en Monterrey   \n",
       "...                                                 ...   \n",
       "1057          Restaurantes en Atotonilco\\n- Guanajuato    \n",
       "1058             Restaurantes en Zinacantán\\n- Chiapas    \n",
       "1059  Restaurantes en Municipio de Vista Hermosa\\n- ...   \n",
       "1060             Restaurantes en Purépero\\n- Michoacán    \n",
       "1061  Restaurantes en Santa María Tonantzintla\\n- Pu...   \n",
       "\n",
       "                                                   href  \n",
       "0     /Restaurants-g150800-Mexico_City_Central_Mexic...  \n",
       "1     /Restaurants-g150798-Guadalajara_Guadalajara_M...  \n",
       "2     /Restaurants-g150807-Cancun_Yucatan_Peninsula....  \n",
       "3     /Restaurants-g150812-Playa_del_Carmen_Yucatan_...  \n",
       "4     /Restaurants-g150782-Monterrey_Northern_Mexico...  \n",
       "...                                                 ...  \n",
       "1057  /Restaurants-g1673158-Atotonilco_Central_Mexic...  \n",
       "1058  /Restaurants-g1026028-Zinacantan_Southern_Mexi...  \n",
       "1059  /Restaurants-g14976770-Vista_Hermosa_Municipal...  \n",
       "1060  /Restaurants-g3151836-Purepero_Central_Mexico_...  \n",
       "1061  /Restaurants-g1026036-Santa_Maria_Tonantzintla...  \n",
       "\n",
       "[1062 rows x 2 columns]"
      ]
     },
     "execution_count": 165,
     "metadata": {},
     "output_type": "execute_result"
    }
   ],
   "source": [
    "city_list"
   ]
  },
  {
   "cell_type": "code",
   "execution_count": 166,
   "metadata": {},
   "outputs": [],
   "source": [
    "city_list.to_csv('city_list.csv', index=False)"
   ]
  }
 ],
 "metadata": {
  "kernelspec": {
   "display_name": "Python 3.10.3 64-bit",
   "language": "python",
   "name": "python3"
  },
  "language_info": {
   "codemirror_mode": {
    "name": "ipython",
    "version": 3
   },
   "file_extension": ".py",
   "mimetype": "text/x-python",
   "name": "python",
   "nbconvert_exporter": "python",
   "pygments_lexer": "ipython3",
   "version": "3.10.3"
  },
  "orig_nbformat": 4,
  "vscode": {
   "interpreter": {
    "hash": "369f2c481f4da34e4445cda3fffd2e751bd1c4d706f27375911949ba6bb62e1c"
   }
  }
 },
 "nbformat": 4,
 "nbformat_minor": 2
}
